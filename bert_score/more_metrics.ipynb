{
 "metadata": {
  "language_info": {
   "codemirror_mode": {
    "name": "ipython",
    "version": 3
   },
   "file_extension": ".py",
   "mimetype": "text/x-python",
   "name": "python",
   "nbconvert_exporter": "python",
   "pygments_lexer": "ipython3",
   "version": "3.8.5"
  },
  "orig_nbformat": 2,
  "kernelspec": {
   "name": "analyse",
   "display_name": "analyse",
   "language": "python"
  }
 },
 "nbformat": 4,
 "nbformat_minor": 2,
 "cells": [
  {
   "cell_type": "code",
   "execution_count": 5,
   "metadata": {},
   "outputs": [],
   "source": [
    "cnns_path = \"/exp/yashgupta/ipsum/AdaptSum/dataset/SDPT-cnn_dm/train.source\"\n",
    "cnnt_path = \"/exp/yashgupta/ipsum/AdaptSum/dataset/SDPT-cnn_dm/train.target\"\n",
    "dias_path = \"/exp/yashgupta/ipsum/AdaptSum/dataset/dataset/dialogue/300sample/train.target\"\n",
    "diat_path = \"/exp/yashgupta/ipsum/AdaptSum/dataset/dataset/dialogue/300sample/train.source\""
   ]
  },
  {
   "cell_type": "code",
   "execution_count": 15,
   "metadata": {},
   "outputs": [],
   "source": [
    "import pandas as pd"
   ]
  },
  {
   "cell_type": "code",
   "execution_count": 16,
   "metadata": {},
   "outputs": [
    {
     "output_type": "stream",
     "name": "stdout",
     "text": [
      "287227 287227 300 300\n"
     ]
    }
   ],
   "source": [
    "# pd.read_table(cnns_path, error_bad_lines=False, header=None)\n",
    "cnns_lines = open(cnns_path, 'r').readlines()\n",
    "cnnt_lines = open(cnnt_path, 'r').readlines()\n",
    "dias_lines = open(dias_path, 'r').readlines()\n",
    "diat_lines = open(diat_path, 'r').readlines()\n",
    "print(len(cnns_lines), len(cnnt_lines), len(dias_lines), len(diat_lines))"
   ]
  },
  {
   "cell_type": "code",
   "execution_count": 2,
   "metadata": {},
   "outputs": [
    {
     "output_type": "stream",
     "name": "stdout",
     "text": [
      "bert_score\tget_rescale_baseline  more_metrics.ipynb  tests\nbert_score_cli\tjournal\t\t      README.md\t\t  tune_layers\nbert_score.png\tLICENSE\t\t      requirements.txt\t  upload_pypi.sh\nexample\t\tMANIFEST.in\t      setup.py\n"
     ]
    }
   ],
   "source": [
    "!ls"
   ]
  },
  {
   "cell_type": "code",
   "execution_count": 6,
   "metadata": {},
   "outputs": [
    {
     "output_type": "execute_result",
     "data": {
      "text/plain": [
       "<module 'bert_score' from '/exp/yashgupta/temp/bert_score/bert_score/__init__.py'>"
      ]
     },
     "metadata": {},
     "execution_count": 6
    }
   ],
   "source": [
    "import importlib\n",
    "import bert_score\n",
    "importlib.reload(bert_score)"
   ]
  },
  {
   "cell_type": "code",
   "execution_count": 7,
   "metadata": {},
   "outputs": [],
   "source": [
    "with open(cnns_path) as f: #\"example/hyps.txt\"\n",
    "    cands = [line.strip() for line in f]\n",
    "\n",
    "with open(dias_path) as f: #\"example/refs.txt\"\n",
    "    refs = [line.strip() for line in f]\n"
   ]
  },
  {
   "cell_type": "code",
   "execution_count": 8,
   "metadata": {},
   "outputs": [
    {
     "output_type": "execute_result",
     "data": {
      "text/plain": [
       "'Editor\\'s note: In our Behind the Scenes series, CNN correspondents share their experiences in covering news and analyze the stories behind the events. Here, Soledad O\\'Brien takes users inside a jail where many of the inmates are mentally ill. An inmate housed on the \"forgotten floor,\" where many mentally ill inmates are housed in Miami before trial. MIAMI, Florida (CNN) -- The ninth floor of the Miami-Dade pretrial detention facility is dubbed the \"forgotten floor.\" Here, inmates with the most severe mental illnesses are incarcerated until they\\'re ready to appear in court. Most often, they face drug charges or charges of assaulting an officer --charges that Judge Steven Leifman says are usually \"avoidable felonies.\" He says the arrests often result from confrontations with police. Mentally ill people often won\\'t do what they\\'re told when police arrive on the scene -- confrontation seems to exacerbate their illness and they become more paranoid, delusional, and less likely to follow directions, according to Leifman. So, they end up on the ninth floor severely mentally disturbed, but not getting any real help because they\\'re in jail. We toured the jail with Leifman. He is well known in Miami as an advocate for justice and the mentally ill. Even though we were not exactly welcomed with open arms by the guards, we were given permission to shoot videotape and tour the floor.  Go inside the \\'forgotten floor\\' » . At first, it\\'s hard to determine where the people are. The prisoners are wearing sleeveless robes. Imagine cutting holes for arms and feet in a heavy wool sleeping bag -- that\\'s kind of what they look like. They\\'re designed to keep the mentally ill patients from injuring themselves. That\\'s also why they have no shoes, laces or mattresses. Leifman says about one-third of all people in Miami-Dade county jails are mentally ill. So, he says, the sheer volume is overwhelming the system, and the result is what we see on the ninth floor. Of course, it is a jail, so it\\'s not supposed to be warm and comforting, but the lights glare, the cells are tiny and it\\'s loud. We see two, sometimes three men -- sometimes in the robes, sometimes naked, lying or sitting in their cells. \"I am the son of the president. You need to get me out of here!\" one man shouts at me. He is absolutely serious, convinced that help is on the way -- if only he could reach the White House. Leifman tells me that these prisoner-patients will often circulate through the system, occasionally stabilizing in a mental hospital, only to return to jail to face their charges. It\\'s brutally unjust, in his mind, and he has become a strong advocate for changing things in Miami. Over a meal later, we talk about how things got this way for mental patients. Leifman says 200 years ago people were considered \"lunatics\" and they were locked up in jails even if they had no charges against them. They were just considered unfit to be in society. Over the years, he says, there was some public outcry, and the mentally ill were moved out of jails and into hospitals. But Leifman says many of these mental hospitals were so horrible they were shut down. Where did the patients go? Nowhere. The streets. They became, in many cases, the homeless, he says. They never got treatment. Leifman says in 1955 there were more than half a million people in state mental hospitals, and today that number has been reduced 90 percent, and 40,000 to 50,000 people are in mental hospitals. The judge says he\\'s working to change this. Starting in 2008, many inmates who would otherwise have been brought to the \"forgotten floor\"  will instead be sent to a new mental health facility -- the first step on a journey toward long-term treatment, not just punishment. Leifman says it\\'s not the complete answer, but it\\'s a start. Leifman says the best part is that it\\'s a win-win solution. The patients win, the families are relieved, and the state saves money by simply not cycling these prisoners through again and again. And, for Leifman, justice is served. E-mail to a friend .'"
      ]
     },
     "metadata": {},
     "execution_count": 8
    }
   ],
   "source": [
    "cands[0]\n"
   ]
  },
  {
   "cell_type": "code",
   "execution_count": 9,
   "metadata": {},
   "outputs": [
    {
     "output_type": "stream",
     "name": "stdout",
     "text": [
      "my score all\n",
      "calculating scores...\n",
      "computing bert embedding.\n"
     ]
    },
    {
     "output_type": "display_data",
     "data": {
      "text/plain": "HBox(children=(FloatProgress(value=0.0, max=4443.0), HTML(value='')))",
      "application/vnd.jupyter.widget-view+json": {
       "version_major": 2,
       "version_minor": 0,
       "model_id": "4d24fb1886f44575bbde745432ed3f49"
      }
     },
     "metadata": {}
    }
   ],
   "source": [
    "P, R, F1 = bert_score.score_all(cands, refs, lang='en', verbose=True)\n"
   ]
  },
  {
   "cell_type": "code",
   "execution_count": 13,
   "metadata": {},
   "outputs": [
    {
     "output_type": "execute_result",
     "data": {
      "text/plain": [
       "tensor([0.9843, 0.9004, 0.7979, 0.8596, 0.8430, 0.8259, 0.8163, 0.8259, 0.7758,\n",
       "        0.8230, 0.9569, 0.9832, 0.8198, 0.8889, 0.8669, 0.8470, 0.8388, 0.8504,\n",
       "        0.7983, 0.8421, 0.8506, 0.8487, 0.9120, 0.8298, 0.8425, 0.8305, 0.8464,\n",
       "        0.8560, 0.7930, 0.8749, 0.9224, 0.9074, 0.8211, 0.9577, 0.8856, 0.8486,\n",
       "        0.8425, 0.8541, 0.7947, 0.8583, 0.8861, 0.8640, 0.8222, 0.8631, 0.9603,\n",
       "        0.8298, 0.8469, 0.8568, 0.8002, 0.8441, 0.8901, 0.8789, 0.8454, 0.8755,\n",
       "        0.8638, 0.9674, 0.8608, 0.8516, 0.7946, 0.8662, 0.8593, 0.8488, 0.8285,\n",
       "        0.8359, 0.8630, 0.8321, 0.9526, 0.8767, 0.8249, 0.8561, 0.8579, 0.8504,\n",
       "        0.8289, 0.8353, 0.8496, 0.8259, 0.8694, 0.9666, 0.8120, 0.8574, 0.8506,\n",
       "        0.8387, 0.8130, 0.8220, 0.8343, 0.8148, 0.8309, 0.8470, 0.9393, 0.8416,\n",
       "        0.8532, 0.8485, 0.8368, 0.8358, 0.8414, 0.8318, 0.8461, 0.8561, 0.7910,\n",
       "        0.9505])"
      ]
     },
     "metadata": {},
     "execution_count": 13
    }
   ],
   "source": [
    "P"
   ]
  },
  {
   "cell_type": "code",
   "execution_count": 8,
   "metadata": {},
   "outputs": [
    {
     "output_type": "stream",
     "name": "stdout",
     "text": [
      "my score\n",
      "calculating scores...\n",
      "computing bert embedding.\n"
     ]
    },
    {
     "output_type": "display_data",
     "data": {
      "text/plain": "HBox(children=(FloatProgress(value=0.0, max=1.0), HTML(value='')))",
      "application/vnd.jupyter.widget-view+json": {
       "version_major": 2,
       "version_minor": 0,
       "model_id": "130946131f624f15a248899df3039510"
      }
     },
     "metadata": {}
    },
    {
     "output_type": "stream",
     "name": "stdout",
     "text": [
      "\ncomputing greedy matching.\n"
     ]
    },
    {
     "output_type": "display_data",
     "data": {
      "text/plain": "HBox(children=(FloatProgress(value=0.0, max=1.0), HTML(value='')))",
      "application/vnd.jupyter.widget-view+json": {
       "version_major": 2,
       "version_minor": 0,
       "model_id": "d1d7ed684a2d439781ee4ab3e646c16e"
      }
     },
     "metadata": {}
    },
    {
     "output_type": "stream",
     "name": "stdout",
     "text": [
      "\ndone in 0.15 seconds, 66.19 sentences/sec\n"
     ]
    },
    {
     "output_type": "execute_result",
     "data": {
      "text/plain": [
       "tensor([0.9843, 0.9832, 0.9120, 0.9577, 0.9603, 0.9674, 0.9526, 0.9666, 0.9393,\n",
       "        0.9505])"
      ]
     },
     "metadata": {},
     "execution_count": 8
    }
   ],
   "source": [
    "P, R, F1 = bert_score.score(cands, refs, lang='en', verbose=True)\n",
    "P\n"
   ]
  },
  {
   "cell_type": "code",
   "execution_count": 3,
   "metadata": {},
   "outputs": [],
   "source": [
    "!export CUDA_VISIBLE_DEVICES=3"
   ]
  },
  {
   "cell_type": "code",
   "execution_count": 4,
   "metadata": {},
   "outputs": [
    {
     "output_type": "stream",
     "name": "stdout",
     "text": [
      "3\n"
     ]
    }
   ],
   "source": [
    "!echo $CUDA_VISIBLE_DEVICES"
   ]
  },
  {
   "cell_type": "code",
   "execution_count": 2,
   "metadata": {},
   "outputs": [],
   "source": [
    "import os"
   ]
  },
  {
   "cell_type": "code",
   "execution_count": 1,
   "metadata": {},
   "outputs": [],
   "source": [
    "os.environ[\"CUDA_VISIBLE_DEVICES\"] = \"3\""
   ]
  },
  {
   "cell_type": "code",
   "execution_count": null,
   "metadata": {},
   "outputs": [],
   "source": []
  }
 ]
}